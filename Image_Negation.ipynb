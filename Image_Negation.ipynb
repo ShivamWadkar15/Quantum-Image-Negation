{
  "nbformat": 4,
  "nbformat_minor": 0,
  "metadata": {
    "colab": {
      "provenance": []
    },
    "kernelspec": {
      "name": "python3",
      "display_name": "Python 3"
    },
    "language_info": {
      "name": "python"
    }
  },
  "cells": [
    {
      "cell_type": "markdown",
      "source": [
        "# 🧠 Quantum Image Negation using Cirq 🧠\n",
        "\n",
        "### 📌 Problem Statement\n",
        "\n",
        "In classical image processing, image negation is a basic operation where each pixel is inverted (0 becomes 1, and 1 becomes 0). This project aims to replicate that behavior using **quantum computing** principles.\n",
        "\n",
        "We will:\n",
        "- Load a **binary (black & white)** image.\n",
        "- Convert each pixel value into a **qubit**.\n",
        "- Apply a quantum **NOT gate (X gate)** to invert the qubit's state.\n",
        "- Measure the qubit to get the negated pixel value.\n",
        "- Reconstruct and display the **negated image** using classical tools.\n",
        "\n",
        "---\n",
        "\n",
        "### ✅ Project Goals\n",
        "\n",
        "- Simulate quantum logic on classical image data using **Cirq**.\n",
        "- Perform **pixel-wise quantum negation** using X gates.\n",
        "- Reconstruct the final image and compare with classical negation.\n",
        "- Learn how quantum logic gates can be used for classical tasks.\n",
        "\n",
        "---\n",
        "\n",
        "### 🛠 Tools Used\n",
        "\n",
        "- `Cirq` – for building and running quantum circuits.\n",
        "- `NumPy` – for matrix and pixel data manipulation.\n",
        "- `Pillow (PIL)` – for image loading and creation.\n",
        "- `IPython.display` – to view images inside Colab.\n",
        "\n",
        "---\n",
        "\n",
        "### 🚀 Extensions (Optional)\n",
        "\n",
        "- Optimize by processing multiple pixels at once using **multi-qubit circuits**.\n",
        "- Extend the logic to grayscale or RGB images (advanced).\n",
        "- Compare classical vs. quantum processing performance and behavior.\n",
        "\n",
        "---\n"
      ],
      "metadata": {
        "id": "phQto4-aIJvP"
      }
    },
    {
      "cell_type": "code",
      "execution_count": null,
      "metadata": {
        "colab": {
          "base_uri": "https://localhost:8080/"
        },
        "id": "Pnfrz3--1Han",
        "outputId": "cb51f059-221a-4ab2-df56-24229fd9ddea"
      },
      "outputs": [
        {
          "output_type": "stream",
          "name": "stdout",
          "text": [
            "Collecting cirq\n",
            "  Downloading cirq-1.5.0-py3-none-any.whl.metadata (15 kB)\n",
            "Requirement already satisfied: pillow in /usr/local/lib/python3.11/dist-packages (11.2.1)\n",
            "Requirement already satisfied: numpy in /usr/local/lib/python3.11/dist-packages (2.0.2)\n",
            "Collecting cirq-aqt==1.5.0 (from cirq)\n",
            "  Downloading cirq_aqt-1.5.0-py3-none-any.whl.metadata (4.8 kB)\n",
            "Collecting cirq-core==1.5.0 (from cirq)\n",
            "  Downloading cirq_core-1.5.0-py3-none-any.whl.metadata (4.9 kB)\n",
            "Collecting cirq-google==1.5.0 (from cirq)\n",
            "  Downloading cirq_google-1.5.0-py3-none-any.whl.metadata (4.9 kB)\n",
            "Collecting cirq-ionq==1.5.0 (from cirq)\n",
            "  Downloading cirq_ionq-1.5.0-py3-none-any.whl.metadata (4.7 kB)\n",
            "Collecting cirq-pasqal==1.5.0 (from cirq)\n",
            "  Downloading cirq_pasqal-1.5.0-py3-none-any.whl.metadata (4.8 kB)\n",
            "Collecting cirq-web==1.5.0 (from cirq)\n",
            "  Downloading cirq_web-1.5.0-py3-none-any.whl.metadata (5.5 kB)\n",
            "Requirement already satisfied: requests~=2.32 in /usr/local/lib/python3.11/dist-packages (from cirq-aqt==1.5.0->cirq) (2.32.3)\n",
            "Requirement already satisfied: attrs>=21.3.0 in /usr/local/lib/python3.11/dist-packages (from cirq-core==1.5.0->cirq) (25.3.0)\n",
            "Collecting duet>=0.2.8 (from cirq-core==1.5.0->cirq)\n",
            "  Downloading duet-0.2.9-py3-none-any.whl.metadata (2.3 kB)\n",
            "Requirement already satisfied: matplotlib~=3.7 in /usr/local/lib/python3.11/dist-packages (from cirq-core==1.5.0->cirq) (3.10.0)\n",
            "Requirement already satisfied: networkx~=3.1 in /usr/local/lib/python3.11/dist-packages (from cirq-core==1.5.0->cirq) (3.5)\n",
            "Requirement already satisfied: pandas~=2.0 in /usr/local/lib/python3.11/dist-packages (from cirq-core==1.5.0->cirq) (2.2.2)\n",
            "Requirement already satisfied: sortedcontainers~=2.0 in /usr/local/lib/python3.11/dist-packages (from cirq-core==1.5.0->cirq) (2.4.0)\n",
            "Requirement already satisfied: scipy~=1.11 in /usr/local/lib/python3.11/dist-packages (from cirq-core==1.5.0->cirq) (1.15.3)\n",
            "Requirement already satisfied: sympy in /usr/local/lib/python3.11/dist-packages (from cirq-core==1.5.0->cirq) (1.13.1)\n",
            "Requirement already satisfied: typing_extensions>=4.2 in /usr/local/lib/python3.11/dist-packages (from cirq-core==1.5.0->cirq) (4.13.2)\n",
            "Requirement already satisfied: tqdm>=4.12 in /usr/local/lib/python3.11/dist-packages (from cirq-core==1.5.0->cirq) (4.67.1)\n",
            "Requirement already satisfied: google-api-core>=1.14.0 in /usr/local/lib/python3.11/dist-packages (from google-api-core[grpc]>=1.14.0->cirq-google==1.5.0->cirq) (2.24.2)\n",
            "Requirement already satisfied: proto-plus>=1.20.0 in /usr/local/lib/python3.11/dist-packages (from cirq-google==1.5.0->cirq) (1.26.1)\n",
            "Requirement already satisfied: protobuf<6.0,>=4.25 in /usr/local/lib/python3.11/dist-packages (from cirq-google==1.5.0->cirq) (5.29.5)\n",
            "Collecting typedunits (from cirq-google==1.5.0->cirq)\n",
            "  Downloading typedunits-0.0.1.dev20250509200845-cp311-cp311-manylinux_2_17_x86_64.manylinux2014_x86_64.whl.metadata (4.8 kB)\n",
            "Requirement already satisfied: googleapis-common-protos<2.0.0,>=1.56.2 in /usr/local/lib/python3.11/dist-packages (from google-api-core>=1.14.0->google-api-core[grpc]>=1.14.0->cirq-google==1.5.0->cirq) (1.70.0)\n",
            "Requirement already satisfied: google-auth<3.0.0,>=2.14.1 in /usr/local/lib/python3.11/dist-packages (from google-api-core>=1.14.0->google-api-core[grpc]>=1.14.0->cirq-google==1.5.0->cirq) (2.38.0)\n",
            "Requirement already satisfied: grpcio<2.0dev,>=1.33.2 in /usr/local/lib/python3.11/dist-packages (from google-api-core[grpc]>=1.14.0->cirq-google==1.5.0->cirq) (1.71.0)\n",
            "Requirement already satisfied: grpcio-status<2.0.dev0,>=1.33.2 in /usr/local/lib/python3.11/dist-packages (from google-api-core[grpc]>=1.14.0->cirq-google==1.5.0->cirq) (1.71.0)\n",
            "Requirement already satisfied: contourpy>=1.0.1 in /usr/local/lib/python3.11/dist-packages (from matplotlib~=3.7->cirq-core==1.5.0->cirq) (1.3.2)\n",
            "Requirement already satisfied: cycler>=0.10 in /usr/local/lib/python3.11/dist-packages (from matplotlib~=3.7->cirq-core==1.5.0->cirq) (0.12.1)\n",
            "Requirement already satisfied: fonttools>=4.22.0 in /usr/local/lib/python3.11/dist-packages (from matplotlib~=3.7->cirq-core==1.5.0->cirq) (4.58.1)\n",
            "Requirement already satisfied: kiwisolver>=1.3.1 in /usr/local/lib/python3.11/dist-packages (from matplotlib~=3.7->cirq-core==1.5.0->cirq) (1.4.8)\n",
            "Requirement already satisfied: packaging>=20.0 in /usr/local/lib/python3.11/dist-packages (from matplotlib~=3.7->cirq-core==1.5.0->cirq) (24.2)\n",
            "Requirement already satisfied: pyparsing>=2.3.1 in /usr/local/lib/python3.11/dist-packages (from matplotlib~=3.7->cirq-core==1.5.0->cirq) (3.2.3)\n",
            "Requirement already satisfied: python-dateutil>=2.7 in /usr/local/lib/python3.11/dist-packages (from matplotlib~=3.7->cirq-core==1.5.0->cirq) (2.9.0.post0)\n",
            "Requirement already satisfied: pytz>=2020.1 in /usr/local/lib/python3.11/dist-packages (from pandas~=2.0->cirq-core==1.5.0->cirq) (2025.2)\n",
            "Requirement already satisfied: tzdata>=2022.7 in /usr/local/lib/python3.11/dist-packages (from pandas~=2.0->cirq-core==1.5.0->cirq) (2025.2)\n",
            "Requirement already satisfied: charset-normalizer<4,>=2 in /usr/local/lib/python3.11/dist-packages (from requests~=2.32->cirq-aqt==1.5.0->cirq) (3.4.2)\n",
            "Requirement already satisfied: idna<4,>=2.5 in /usr/local/lib/python3.11/dist-packages (from requests~=2.32->cirq-aqt==1.5.0->cirq) (3.10)\n",
            "Requirement already satisfied: urllib3<3,>=1.21.1 in /usr/local/lib/python3.11/dist-packages (from requests~=2.32->cirq-aqt==1.5.0->cirq) (2.4.0)\n",
            "Requirement already satisfied: certifi>=2017.4.17 in /usr/local/lib/python3.11/dist-packages (from requests~=2.32->cirq-aqt==1.5.0->cirq) (2025.4.26)\n",
            "Requirement already satisfied: mpmath<1.4,>=1.1.0 in /usr/local/lib/python3.11/dist-packages (from sympy->cirq-core==1.5.0->cirq) (1.3.0)\n",
            "Requirement already satisfied: cython>=3.0.0 in /usr/local/lib/python3.11/dist-packages (from typedunits->cirq-google==1.5.0->cirq) (3.0.12)\n",
            "Requirement already satisfied: cachetools<6.0,>=2.0.0 in /usr/local/lib/python3.11/dist-packages (from google-auth<3.0.0,>=2.14.1->google-api-core>=1.14.0->google-api-core[grpc]>=1.14.0->cirq-google==1.5.0->cirq) (5.5.2)\n",
            "Requirement already satisfied: pyasn1-modules>=0.2.1 in /usr/local/lib/python3.11/dist-packages (from google-auth<3.0.0,>=2.14.1->google-api-core>=1.14.0->google-api-core[grpc]>=1.14.0->cirq-google==1.5.0->cirq) (0.4.2)\n",
            "Requirement already satisfied: rsa<5,>=3.1.4 in /usr/local/lib/python3.11/dist-packages (from google-auth<3.0.0,>=2.14.1->google-api-core>=1.14.0->google-api-core[grpc]>=1.14.0->cirq-google==1.5.0->cirq) (4.9.1)\n",
            "Requirement already satisfied: six>=1.5 in /usr/local/lib/python3.11/dist-packages (from python-dateutil>=2.7->matplotlib~=3.7->cirq-core==1.5.0->cirq) (1.17.0)\n",
            "Requirement already satisfied: pyasn1<0.7.0,>=0.6.1 in /usr/local/lib/python3.11/dist-packages (from pyasn1-modules>=0.2.1->google-auth<3.0.0,>=2.14.1->google-api-core>=1.14.0->google-api-core[grpc]>=1.14.0->cirq-google==1.5.0->cirq) (0.6.1)\n",
            "Downloading cirq-1.5.0-py3-none-any.whl (10 kB)\n",
            "Downloading cirq_aqt-1.5.0-py3-none-any.whl (31 kB)\n",
            "Downloading cirq_core-1.5.0-py3-none-any.whl (2.0 MB)\n",
            "\u001b[2K   \u001b[90m━━━━━━━━━━━━━━━━━━━━━━━━━━━━━━━━━━━━━━━━\u001b[0m \u001b[32m2.0/2.0 MB\u001b[0m \u001b[31m48.1 MB/s\u001b[0m eta \u001b[36m0:00:00\u001b[0m\n",
            "\u001b[?25hDownloading cirq_google-1.5.0-py3-none-any.whl (597 kB)\n",
            "\u001b[2K   \u001b[90m━━━━━━━━━━━━━━━━━━━━━━━━━━━━━━━━━━━━━━━━\u001b[0m \u001b[32m597.5/597.5 kB\u001b[0m \u001b[31m38.8 MB/s\u001b[0m eta \u001b[36m0:00:00\u001b[0m\n",
            "\u001b[?25hDownloading cirq_ionq-1.5.0-py3-none-any.whl (72 kB)\n",
            "\u001b[2K   \u001b[90m━━━━━━━━━━━━━━━━━━━━━━━━━━━━━━━━━━━━━━━━\u001b[0m \u001b[32m72.0/72.0 kB\u001b[0m \u001b[31m6.2 MB/s\u001b[0m eta \u001b[36m0:00:00\u001b[0m\n",
            "\u001b[?25hDownloading cirq_pasqal-1.5.0-py3-none-any.whl (33 kB)\n",
            "Downloading cirq_web-1.5.0-py3-none-any.whl (425 kB)\n",
            "\u001b[2K   \u001b[90m━━━━━━━━━━━━━━━━━━━━━━━━━━━━━━━━━━━━━━━━\u001b[0m \u001b[32m425.1/425.1 kB\u001b[0m \u001b[31m24.4 MB/s\u001b[0m eta \u001b[36m0:00:00\u001b[0m\n",
            "\u001b[?25hDownloading duet-0.2.9-py3-none-any.whl (29 kB)\n",
            "Downloading typedunits-0.0.1.dev20250509200845-cp311-cp311-manylinux_2_17_x86_64.manylinux2014_x86_64.whl (2.8 MB)\n",
            "\u001b[2K   \u001b[90m━━━━━━━━━━━━━━━━━━━━━━━━━━━━━━━━━━━━━━━━\u001b[0m \u001b[32m2.8/2.8 MB\u001b[0m \u001b[31m56.1 MB/s\u001b[0m eta \u001b[36m0:00:00\u001b[0m\n",
            "\u001b[?25hInstalling collected packages: typedunits, duet, cirq-core, cirq-web, cirq-pasqal, cirq-ionq, cirq-aqt, cirq-google, cirq\n",
            "Successfully installed cirq-1.5.0 cirq-aqt-1.5.0 cirq-core-1.5.0 cirq-google-1.5.0 cirq-ionq-1.5.0 cirq-pasqal-1.5.0 cirq-web-1.5.0 duet-0.2.9 typedunits-0.0.1.dev20250509200845\n"
          ]
        }
      ],
      "source": [
        "!pip install cirq pillow numpy\n"
      ]
    },
    {
      "cell_type": "code",
      "source": [
        "from google.colab import files\n",
        "uploaded = files.upload()"
      ],
      "metadata": {
        "colab": {
          "base_uri": "https://localhost:8080/",
          "height": 74
        },
        "id": "pKVvzXy64FWQ",
        "outputId": "1d22ba90-d34c-442b-a5a6-5e2f343e9998"
      },
      "execution_count": null,
      "outputs": [
        {
          "output_type": "display_data",
          "data": {
            "text/plain": [
              "<IPython.core.display.HTML object>"
            ],
            "text/html": [
              "\n",
              "     <input type=\"file\" id=\"files-69d7aa0a-e24a-4822-b42f-0d0045d57ca6\" name=\"files[]\" multiple disabled\n",
              "        style=\"border:none\" />\n",
              "     <output id=\"result-69d7aa0a-e24a-4822-b42f-0d0045d57ca6\">\n",
              "      Upload widget is only available when the cell has been executed in the\n",
              "      current browser session. Please rerun this cell to enable.\n",
              "      </output>\n",
              "      <script>// Copyright 2017 Google LLC\n",
              "//\n",
              "// Licensed under the Apache License, Version 2.0 (the \"License\");\n",
              "// you may not use this file except in compliance with the License.\n",
              "// You may obtain a copy of the License at\n",
              "//\n",
              "//      http://www.apache.org/licenses/LICENSE-2.0\n",
              "//\n",
              "// Unless required by applicable law or agreed to in writing, software\n",
              "// distributed under the License is distributed on an \"AS IS\" BASIS,\n",
              "// WITHOUT WARRANTIES OR CONDITIONS OF ANY KIND, either express or implied.\n",
              "// See the License for the specific language governing permissions and\n",
              "// limitations under the License.\n",
              "\n",
              "/**\n",
              " * @fileoverview Helpers for google.colab Python module.\n",
              " */\n",
              "(function(scope) {\n",
              "function span(text, styleAttributes = {}) {\n",
              "  const element = document.createElement('span');\n",
              "  element.textContent = text;\n",
              "  for (const key of Object.keys(styleAttributes)) {\n",
              "    element.style[key] = styleAttributes[key];\n",
              "  }\n",
              "  return element;\n",
              "}\n",
              "\n",
              "// Max number of bytes which will be uploaded at a time.\n",
              "const MAX_PAYLOAD_SIZE = 100 * 1024;\n",
              "\n",
              "function _uploadFiles(inputId, outputId) {\n",
              "  const steps = uploadFilesStep(inputId, outputId);\n",
              "  const outputElement = document.getElementById(outputId);\n",
              "  // Cache steps on the outputElement to make it available for the next call\n",
              "  // to uploadFilesContinue from Python.\n",
              "  outputElement.steps = steps;\n",
              "\n",
              "  return _uploadFilesContinue(outputId);\n",
              "}\n",
              "\n",
              "// This is roughly an async generator (not supported in the browser yet),\n",
              "// where there are multiple asynchronous steps and the Python side is going\n",
              "// to poll for completion of each step.\n",
              "// This uses a Promise to block the python side on completion of each step,\n",
              "// then passes the result of the previous step as the input to the next step.\n",
              "function _uploadFilesContinue(outputId) {\n",
              "  const outputElement = document.getElementById(outputId);\n",
              "  const steps = outputElement.steps;\n",
              "\n",
              "  const next = steps.next(outputElement.lastPromiseValue);\n",
              "  return Promise.resolve(next.value.promise).then((value) => {\n",
              "    // Cache the last promise value to make it available to the next\n",
              "    // step of the generator.\n",
              "    outputElement.lastPromiseValue = value;\n",
              "    return next.value.response;\n",
              "  });\n",
              "}\n",
              "\n",
              "/**\n",
              " * Generator function which is called between each async step of the upload\n",
              " * process.\n",
              " * @param {string} inputId Element ID of the input file picker element.\n",
              " * @param {string} outputId Element ID of the output display.\n",
              " * @return {!Iterable<!Object>} Iterable of next steps.\n",
              " */\n",
              "function* uploadFilesStep(inputId, outputId) {\n",
              "  const inputElement = document.getElementById(inputId);\n",
              "  inputElement.disabled = false;\n",
              "\n",
              "  const outputElement = document.getElementById(outputId);\n",
              "  outputElement.innerHTML = '';\n",
              "\n",
              "  const pickedPromise = new Promise((resolve) => {\n",
              "    inputElement.addEventListener('change', (e) => {\n",
              "      resolve(e.target.files);\n",
              "    });\n",
              "  });\n",
              "\n",
              "  const cancel = document.createElement('button');\n",
              "  inputElement.parentElement.appendChild(cancel);\n",
              "  cancel.textContent = 'Cancel upload';\n",
              "  const cancelPromise = new Promise((resolve) => {\n",
              "    cancel.onclick = () => {\n",
              "      resolve(null);\n",
              "    };\n",
              "  });\n",
              "\n",
              "  // Wait for the user to pick the files.\n",
              "  const files = yield {\n",
              "    promise: Promise.race([pickedPromise, cancelPromise]),\n",
              "    response: {\n",
              "      action: 'starting',\n",
              "    }\n",
              "  };\n",
              "\n",
              "  cancel.remove();\n",
              "\n",
              "  // Disable the input element since further picks are not allowed.\n",
              "  inputElement.disabled = true;\n",
              "\n",
              "  if (!files) {\n",
              "    return {\n",
              "      response: {\n",
              "        action: 'complete',\n",
              "      }\n",
              "    };\n",
              "  }\n",
              "\n",
              "  for (const file of files) {\n",
              "    const li = document.createElement('li');\n",
              "    li.append(span(file.name, {fontWeight: 'bold'}));\n",
              "    li.append(span(\n",
              "        `(${file.type || 'n/a'}) - ${file.size} bytes, ` +\n",
              "        `last modified: ${\n",
              "            file.lastModifiedDate ? file.lastModifiedDate.toLocaleDateString() :\n",
              "                                    'n/a'} - `));\n",
              "    const percent = span('0% done');\n",
              "    li.appendChild(percent);\n",
              "\n",
              "    outputElement.appendChild(li);\n",
              "\n",
              "    const fileDataPromise = new Promise((resolve) => {\n",
              "      const reader = new FileReader();\n",
              "      reader.onload = (e) => {\n",
              "        resolve(e.target.result);\n",
              "      };\n",
              "      reader.readAsArrayBuffer(file);\n",
              "    });\n",
              "    // Wait for the data to be ready.\n",
              "    let fileData = yield {\n",
              "      promise: fileDataPromise,\n",
              "      response: {\n",
              "        action: 'continue',\n",
              "      }\n",
              "    };\n",
              "\n",
              "    // Use a chunked sending to avoid message size limits. See b/62115660.\n",
              "    let position = 0;\n",
              "    do {\n",
              "      const length = Math.min(fileData.byteLength - position, MAX_PAYLOAD_SIZE);\n",
              "      const chunk = new Uint8Array(fileData, position, length);\n",
              "      position += length;\n",
              "\n",
              "      const base64 = btoa(String.fromCharCode.apply(null, chunk));\n",
              "      yield {\n",
              "        response: {\n",
              "          action: 'append',\n",
              "          file: file.name,\n",
              "          data: base64,\n",
              "        },\n",
              "      };\n",
              "\n",
              "      let percentDone = fileData.byteLength === 0 ?\n",
              "          100 :\n",
              "          Math.round((position / fileData.byteLength) * 100);\n",
              "      percent.textContent = `${percentDone}% done`;\n",
              "\n",
              "    } while (position < fileData.byteLength);\n",
              "  }\n",
              "\n",
              "  // All done.\n",
              "  yield {\n",
              "    response: {\n",
              "      action: 'complete',\n",
              "    }\n",
              "  };\n",
              "}\n",
              "\n",
              "scope.google = scope.google || {};\n",
              "scope.google.colab = scope.google.colab || {};\n",
              "scope.google.colab._files = {\n",
              "  _uploadFiles,\n",
              "  _uploadFilesContinue,\n",
              "};\n",
              "})(self);\n",
              "</script> "
            ]
          },
          "metadata": {}
        },
        {
          "output_type": "stream",
          "name": "stdout",
          "text": [
            "Saving bin.jpg to bin.jpg\n"
          ]
        }
      ]
    },
    {
      "cell_type": "markdown",
      "source": [
        "![bin.jpg](data:image/jpeg;base64,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)"
      ],
      "metadata": {
        "id": "Tn9KEwWuQARK"
      }
    },
    {
      "cell_type": "code",
      "source": [
        "from PIL import Image\n",
        "import numpy as np\n",
        "\n",
        "# Replace with your uploaded image name\n",
        "image = Image.open(\"/content/bin.jpg\").convert(\"1\")  # '1' mode = binary image\n",
        "pixel_matrix = np.array(image).astype(int)  # Convert to matrix of 0s and 1s\n",
        "\n",
        "print(\"Pixel Matrix (0 = white, 1 = black):\")\n",
        "print(pixel_matrix)\n"
      ],
      "metadata": {
        "colab": {
          "base_uri": "https://localhost:8080/"
        },
        "id": "_yDEXF7z6gTv",
        "outputId": "4d2d1085-08aa-45dc-a75d-31fb132b7d3c"
      },
      "execution_count": null,
      "outputs": [
        {
          "output_type": "stream",
          "name": "stdout",
          "text": [
            "Pixel Matrix (0 = white, 1 = black):\n",
            "[[1 1 1 ... 1 1 1]\n",
            " [1 0 1 ... 1 1 1]\n",
            " [1 1 1 ... 1 1 1]\n",
            " ...\n",
            " [1 1 1 ... 1 1 1]\n",
            " [1 1 1 ... 1 1 1]\n",
            " [1 1 1 ... 1 1 1]]\n"
          ]
        }
      ]
    },
    {
      "cell_type": "code",
      "source": [
        "import cirq\n",
        "\n",
        "#define single qubit\n",
        "qubit=cirq.LineQubit(0)\n",
        "\n",
        "#create QC\n",
        "circuit=cirq.Circuit\n",
        "circuit = cirq.Circuit(cirq.X(qubit))\n",
        "\n",
        "#show\n",
        "print(\"Quantum circuit with X gate\")\n",
        "print(circuit)"
      ],
      "metadata": {
        "colab": {
          "base_uri": "https://localhost:8080/"
        },
        "id": "4d5t9PPH7MWy",
        "outputId": "5713eb66-ea16-473f-83b6-5e3e682b886d"
      },
      "execution_count": null,
      "outputs": [
        {
          "output_type": "stream",
          "name": "stdout",
          "text": [
            "Quantum circuit with X gate\n",
            "0: ───X───\n"
          ]
        }
      ]
    },
    {
      "cell_type": "markdown",
      "source": [
        "![image.png](data:image/png;base64,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)"
      ],
      "metadata": {
        "id": "dKbOchgNAfyF"
      }
    },
    {
      "cell_type": "code",
      "source": [
        "import cirq\n",
        "import numpy as np\n",
        "\n",
        "simulator=cirq.Simulator()\n",
        "qubit=cirq.LineQubit(0)\n",
        "\n",
        "negated_matrix=np.zeros_like(pixel_matrix)\n",
        "\n",
        "for i in range(pixel_matrix.shape[0]):\n",
        "  for j in range(pixel_matrix.shape[1]):\n",
        "    circuit=cirq.Circuit()\n",
        "\n",
        "    if pixel_matrix[i,j] == 1:\n",
        "      circuit.append(cirq.X(qubit))\n",
        "\n",
        "    circuit.append(cirq.X(qubit))\n",
        "\n",
        "    circuit.append(cirq.measure(qubit,key='m'))\n",
        "\n",
        "    result=simulator.run(circuit, repetitions=1)\n",
        "\n",
        "    negated_matrix[i,j]=int(result.measurements['m'][0][0])\n",
        "\n",
        "\n",
        "print(\"Negated pixel values\")\n",
        "print(negated_matrix)"
      ],
      "metadata": {
        "colab": {
          "base_uri": "https://localhost:8080/"
        },
        "id": "eVwJ9WRR8ctc",
        "outputId": "03c1f040-c378-437a-e078-01fca22c26be"
      },
      "execution_count": null,
      "outputs": [
        {
          "output_type": "stream",
          "name": "stdout",
          "text": [
            "Negated pixel values\n",
            "[[0 0 0 ... 0 0 0]\n",
            " [0 1 0 ... 0 0 0]\n",
            " [0 0 0 ... 0 0 0]\n",
            " ...\n",
            " [0 0 0 ... 0 0 0]\n",
            " [0 0 0 ... 0 0 0]\n",
            " [0 0 0 ... 0 0 0]]\n"
          ]
        }
      ]
    },
    {
      "cell_type": "code",
      "source": [
        "from PIL import Image\n",
        "import numpy as np\n",
        "\n",
        "image_array=(negated_matrix * 255).astype(np.uint8)\n",
        "negated_image=Image.fromarray(image_array, mode='L')\n",
        "\n",
        "from IPython.display import display\n",
        "display(negated_image)\n",
        "\n",
        "negated_image.save(\"negated_image.png\")"
      ],
      "metadata": {
        "colab": {
          "base_uri": "https://localhost:8080/",
          "height": 440
        },
        "id": "Zl6gc8tkFLXn",
        "outputId": "596b0d1f-6f4b-43e4-9d48-404e47463ceb"
      },
      "execution_count": null,
      "outputs": [
        {
          "output_type": "display_data",
          "data": {
            "text/plain": [
              "<PIL.Image.Image image mode=L size=640x425>"
            ],
            "image/png": "[encoded data removed]",
            "image/jpeg": "[encoded data removed]"
          },
          "metadata": {}
        }
      ]
    }
  ]
}